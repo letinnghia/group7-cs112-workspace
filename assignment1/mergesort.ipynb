{
 "cells": [
  {
   "cell_type": "markdown",
   "metadata": {},
   "source": [
    "### Cài đặt thuật toán Merge Sort xử lý song song"
   ]
  },
  {
   "cell_type": "markdown",
   "metadata": {},
   "source": [
    "Trong notebook này, chúng ta sẽ cài đặt thuật toán sắp xếp trộn với khả năng xử lý song song nhờ vào khả năng tính toán song song trên nhiều tiến trình của CPU. Đồng thời ta cũng so sánh nó với thuật toán sắp xếp trộn cổ điển về thời gian thực thi và đưa ra những nhận xét."
   ]
  },
  {
   "cell_type": "markdown",
   "metadata": {},
   "source": [
    "Trước hết ta cần import một số thư viện cần thiết:"
   ]
  },
  {
   "cell_type": "code",
   "execution_count": 8,
   "metadata": {},
   "outputs": [],
   "source": [
    "import multiprocessing\n",
    "import random\n",
    "import time\n",
    "import seaborn as sns\n",
    "import matplotlib.pyplot as plt"
   ]
  },
  {
   "cell_type": "markdown",
   "metadata": {},
   "source": [
    "Sau đó ta tiến hành cài đặc thuật toán merge sort cổ điển và merge sort xử lý song song:"
   ]
  },
  {
   "cell_type": "code",
   "execution_count": 9,
   "metadata": {},
   "outputs": [],
   "source": [
    "import multiprocessing\n",
    "\n",
    "def merge(left, right):\n",
    "    \"\"\"\n",
    "    Hợp nhất hai mảng con đã sắp xếp thành một mảng con lớn đã sắp xếp.\n",
    "\n",
    "    Args:\n",
    "        left (list): Mảng con trái.\n",
    "        right (list): Mảng con phải.\n",
    "\n",
    "    Returns:\n",
    "        list: Mảng đã sắp xếp chứa tất cả các phần tử từ mảng con trái và phải.\n",
    "    \"\"\"\n",
    "    result = []\n",
    "    i = j = 0\n",
    "\n",
    "    while i < len(left) and j < len(right):\n",
    "        if left[i] < right[j]:\n",
    "            result.append(left[i])\n",
    "            i += 1\n",
    "        else:\n",
    "            result.append(right[j])\n",
    "            j += 1\n",
    "\n",
    "    result.extend(left[i:])\n",
    "    result.extend(right[j:])\n",
    "    return result\n",
    "\n",
    "def regular_mergesort(arr):\n",
    "    \"\"\"\n",
    "    Sắp xếp một mảng bằng thuật toán mergesort.\n",
    "\n",
    "    Args:\n",
    "        arr (list): Mảng cần sắp xếp.\n",
    "\n",
    "    Returns:\n",
    "        list: Mảng đã sắp xếp.\n",
    "    \"\"\"\n",
    "    if len(arr) <= 1:\n",
    "        return arr\n",
    "\n",
    "    mid = len(arr) // 2\n",
    "    left = arr[:mid]\n",
    "    right = arr[mid:]\n",
    "\n",
    "    left = regular_mergesort(left)\n",
    "    right = regular_mergesort(right)\n",
    "\n",
    "    return merge(left, right)\n",
    "\n",
    "\n",
    "def parallel_mergesort(arr):\n",
    "    \"\"\"\n",
    "    Sắp xếp một mảng bằng thuật toán mergesort song song sử dụng multiprocessing.\n",
    "\n",
    "    Args:\n",
    "        arr (list): Mảng cần sắp xếp.\n",
    "\n",
    "    Returns:\n",
    "        list: Mảng đã sắp xếp.\n",
    "    \"\"\"\n",
    "    num_processes = multiprocessing.cpu_count()\n",
    "\n",
    "    # Chỉ sử dụng số tiến trình bằng số phần tử nếu dãy quá nhỏ\n",
    "    if len(arr) < num_processes:\n",
    "        num_processes = len(arr)  \n",
    "\n",
    "    # Chia dãy thành các phần nhỏ\n",
    "    chunk_size = len(arr) // num_processes\n",
    "    chunks = [arr[i:i + chunk_size] for i in range(0, len(arr), chunk_size)]\n",
    "\n",
    "    # Sắp xếp các phần nhỏ bằng các tiến trình riêng biệt\n",
    "    with multiprocessing.Pool(num_processes) as pool:\n",
    "        sorted_chunks = pool.map(regular_mergesort, chunks)\n",
    "\n",
    "    # Hợp nhất các phần nhỏ đã sắp xếp để có mảng đã sắp xếp hoàn chỉnh\n",
    "    sorted_arr = sorted_chunks[0]\n",
    "    for i in range(1, len(sorted_chunks)):\n",
    "        sorted_arr = merge(sorted_arr, sorted_chunks[i])\n",
    "\n",
    "    return sorted_arr\n"
   ]
  },
  {
   "cell_type": "markdown",
   "metadata": {},
   "source": [
    "Ta cần cài đặc hàm kiểm tra xem 2 mảng có bằng nhau không nhằm kiểm tra tính đúng đắn của 2 thuật toán đã cài đặt."
   ]
  },
  {
   "cell_type": "code",
   "execution_count": 10,
   "metadata": {},
   "outputs": [],
   "source": [
    "def compare_arr(arr1, arr2):\n",
    "    if len(arr1) != len(arr2):\n",
    "        return False\n",
    "    \n",
    "    for i in range(len(arr1)):\n",
    "        if arr1[i] != arr2[i]:\n",
    "            return False\n",
    "        \n",
    "    return True"
   ]
  },
  {
   "cell_type": "markdown",
   "metadata": {},
   "source": [
    "Sau đó ta thiết kế hàm để tiến hành chạy thử nghiệm 2 hàm trên trên những mảng có kích thước khác nhau và ghi nhận lại kết quả."
   ]
  },
  {
   "cell_type": "code",
   "execution_count": 11,
   "metadata": {},
   "outputs": [],
   "source": [
    "def run_test(arr_size_min, arr_size_max, step, num_iterations=5):\n",
    "    \"\"\"\n",
    "    Tạo các mảng với kích thước khác nhau và ghi nhận thời gian thực thi của \n",
    "    2 hàm tương ứng với 2 thuật toán merge sort cổ điển và merge sort xử lý\n",
    "    song song\n",
    "\n",
    "    Args:\n",
    "        arr_size_min: Kích thước mảng nhỏ nhất.\n",
    "        arr_size_max: Kích thước mảng lớn nhất.\n",
    "        step: Bước nhảy.\n",
    "        num_iterations: Số lần lặp lại để tính trung bình cộng.\n",
    "\n",
    "    Returns:\n",
    "        (list): mảng chứa thời gian thực thi của hàm regular_mergesort.\n",
    "        (list): mảng chứa thời gian thực thi của hàm parallel_mergesort.\n",
    "    \"\"\"\n",
    "    result1 = []\n",
    "    result2 = []\n",
    "    test_id = 1\n",
    "    for arr_size in range(arr_size_min, arr_size_max + 1, step):\n",
    "        print(f\"# Test {test_id} - kích thước mảng: {arr_size} - thời gian thực thi trung bình:\")\n",
    "        avg_time1 = 0\n",
    "        avg_time2 = 0\n",
    "        for _ in range(num_iterations):\n",
    "            arr = [random.random() for _ in range(arr_size)]\n",
    "\n",
    "            # Ghi nhận thời gian thực thi của hàm regular_mergesort\n",
    "            start_time = time.time()\n",
    "            regular_mergesort(arr)\n",
    "            avg_time1 += time.time() - start_time\n",
    "\n",
    "            # Ghi nhận thời gian thực thi của hàm parallel_mergesort\n",
    "            start_time = time.time()\n",
    "            parallel_mergesort(arr)\n",
    "            avg_time2 += time.time() - start_time\n",
    "\n",
    "        # Lưu vào mảng kết quả\n",
    "        result1.append(avg_time1/num_iterations)\n",
    "        result2.append(avg_time2/num_iterations)\n",
    "\n",
    "        # In ra màn hình thời gian thi của 2 hàm\n",
    "        print(f\"regular_mergesort:  {avg_time1/num_iterations:.4f}\")\n",
    "        print(f\"parallel_mergesort: {avg_time2/num_iterations:.4f}\")\n",
    "        print()\n",
    "        test_id += 1\n",
    "\n",
    "    return result1, result2"
   ]
  },
  {
   "cell_type": "markdown",
   "metadata": {},
   "source": [
    "Trước khi đánh giá thời gian chạy, ta cần kiểm tra xem 2 hàm có sắp xếp đúng không."
   ]
  },
  {
   "cell_type": "code",
   "execution_count": 12,
   "metadata": {},
   "outputs": [],
   "source": [
    "# Tạo mảng các giá trị ngẫu nhiên với 1 triệu phần tử\n",
    "arr = [random.random() for _ in range(1000000)]\n",
    "# Sử dụng hàm sorted của python để sắp xếp mẫu\n",
    "sorted_arr = sorted(arr)\n",
    "# So sánh kết quả của 2 hàm đối với kết quả của hàm sorted từ python.\n",
    "assert compare_arr(sorted_arr, regular_mergesort(arr))\n",
    "assert compare_arr(sorted_arr, parallel_mergesort(arr))"
   ]
  },
  {
   "cell_type": "markdown",
   "metadata": {},
   "source": [
    "Sau khi chắc chắn rằng 2 hàm sắp xếp đúng, ta tiến hành chạy thử 2 hàm bằng hàm `run_test()`"
   ]
  },
  {
   "cell_type": "code",
   "execution_count": 13,
   "metadata": {},
   "outputs": [
    {
     "name": "stdout",
     "output_type": "stream",
     "text": [
      "# Test 1 - kích thước mảng: 100000 - thời gian thực thi trung bình:\n",
      "regular_mergesort:  0.1727\n",
      "parallel_mergesort: 0.2842\n",
      "\n",
      "# Test 2 - kích thước mảng: 200000 - thời gian thực thi trung bình:\n",
      "regular_mergesort:  0.3942\n",
      "parallel_mergesort: 0.4234\n",
      "\n",
      "# Test 3 - kích thước mảng: 300000 - thời gian thực thi trung bình:\n",
      "regular_mergesort:  0.6394\n",
      "parallel_mergesort: 0.5363\n",
      "\n",
      "# Test 4 - kích thước mảng: 400000 - thời gian thực thi trung bình:\n",
      "regular_mergesort:  0.8733\n",
      "parallel_mergesort: 0.6220\n",
      "\n",
      "# Test 5 - kích thước mảng: 500000 - thời gian thực thi trung bình:\n",
      "regular_mergesort:  1.1975\n",
      "parallel_mergesort: 0.7762\n",
      "\n",
      "# Test 6 - kích thước mảng: 600000 - thời gian thực thi trung bình:\n",
      "regular_mergesort:  1.4677\n",
      "parallel_mergesort: 0.8971\n",
      "\n",
      "# Test 7 - kích thước mảng: 700000 - thời gian thực thi trung bình:\n",
      "regular_mergesort:  1.7225\n",
      "parallel_mergesort: 0.9739\n",
      "\n",
      "# Test 8 - kích thước mảng: 800000 - thời gian thực thi trung bình:\n",
      "regular_mergesort:  1.9764\n",
      "parallel_mergesort: 1.0419\n",
      "\n",
      "# Test 9 - kích thước mảng: 900000 - thời gian thực thi trung bình:\n",
      "regular_mergesort:  2.2801\n",
      "parallel_mergesort: 1.2105\n",
      "\n",
      "# Test 10 - kích thước mảng: 1000000 - thời gian thực thi trung bình:\n",
      "regular_mergesort:  2.6399\n",
      "parallel_mergesort: 1.3218\n",
      "\n"
     ]
    }
   ],
   "source": [
    "arr_size_min = 100_000\n",
    "arr_size_max = 1_000_000\n",
    "step = 100_000\n",
    "result1, result2 = run_test(arr_size_min, arr_size_max, step)"
   ]
  },
  {
   "cell_type": "markdown",
   "metadata": {},
   "source": [
    "Cuối cùng ta vẽ biểu đồ thể hiện thời gian chạy của 2 hàm tương ứng với 2 thuật toán sắp xếp trên những mảng có kích thước tăng dần."
   ]
  },
  {
   "cell_type": "code",
   "execution_count": 14,
   "metadata": {},
   "outputs": [
    {
     "data": {
      "image/png": "[encoded data removed]",
      "text/plain": [
       "<Figure size 1000x600 with 1 Axes>"
      ]
     },
     "metadata": {},
     "output_type": "display_data"
    }
   ],
   "source": [
    "sns.set_style(\"whitegrid\") \n",
    "plt.figure(figsize=(10, 6))  \n",
    "\n",
    "sns.lineplot(x=range(arr_size_min, arr_size_max + 1, step), y=result1, label=\"regular_mergesort\")\n",
    "sns.lineplot(x=range(arr_size_min, arr_size_max + 1, step), y=result2, label=\"parallel_mergesort\")\n",
    "\n",
    "plt.xlabel(\"Array size\")\n",
    "plt.ylabel(\"Execute time\")\n",
    "plt.legend()\n",
    "plt.show()"
   ]
  },
  {
   "cell_type": "markdown",
   "metadata": {},
   "source": [
    "**Nhận xét**:\n",
    "- Đối với những mảng có kích thước nhỏ vào khoảng dưới 250.000 phần tử, thuật toán sắp xếp trộn cổ điển cho thời gian thực thi thấp hơn so với sắp xếp trộn xử lý song song.\n",
    "\n",
    "- Tuy nhiên khi kích thước mảng càng tăng cao, thuật toán sắp xếp trộn xử lý song song cho hiệu suất tốt hơn rõ rệt do tận dụng được khả năng tính toán song song của máy tính.\n",
    "\n",
    "- Việc lựa chọn giữa sắp xếp trộn cổ điển và sắp xếp trộn xử lý song song phụ thuộc vào kích thước dữ liệu và tài nguyên có sẵn. Nếu bạn có ít tài nguyên tính toán và dữ liệu nhỏ, sắp xếp trộn cổ điển có thể là lựa chọn tốt hơn. Tuy nhiên, khi bạn có nhiều tài nguyên và dữ liệu lớn, sắp xếp trộn xử lý song song sẽ làm tăng hiệu suất."
   ]
  }
 ],
 "metadata": {
  "kernelspec": {
   "display_name": "Python 3",
   "language": "python",
   "name": "python3"
  },
  "language_info": {
   "codemirror_mode": {
    "name": "ipython",
    "version": 3
   },
   "file_extension": ".py",
   "mimetype": "text/x-python",
   "name": "python",
   "nbconvert_exporter": "python",
   "pygments_lexer": "ipython3",
   "version": "3.11.4"
  },
  "orig_nbformat": 4
 },
 "nbformat": 4,
 "nbformat_minor": 2
}
